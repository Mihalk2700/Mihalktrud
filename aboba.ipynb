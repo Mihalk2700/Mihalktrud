{
 "cells": [
  {
   "cell_type": "code",
   "execution_count": null,
   "id": "c894fbc2",
   "metadata": {},
   "outputs": [],
   "source": [
    "a=2\n",
    "print(a)"
   ]
  },
  {
   "cell_type": "code",
   "execution_count": null,
   "id": "484e0de4",
   "metadata": {},
   "outputs": [],
   "source": [
    "a=input('абоба')\n",
    "print(a)"
   ]
  },
  {
   "cell_type": "code",
   "execution_count": null,
   "id": "f2b011e3",
   "metadata": {},
   "outputs": [],
   "source": [
    "a=[]\n",
    "b=2\n",
    "a.append(b)\n",
    "print(a)"
   ]
  },
  {
   "cell_type": "code",
   "execution_count": null,
   "id": "40acbc52",
   "metadata": {},
   "outputs": [],
   "source": [
    "a=50\n",
    "d=bin(a)\n",
    "print(d)"
   ]
  },
  {
   "cell_type": "code",
   "execution_count": null,
   "id": "1a6c2c1c",
   "metadata": {},
   "outputs": [],
   "source": [
    "d=bin(50)\n",
    "c=int(d[2:],2)\n",
    "print(c)"
   ]
  },
  {
   "cell_type": "code",
   "execution_count": 21,
   "id": "cc680b40",
   "metadata": {},
   "outputs": [
    {
     "name": "stdout",
     "output_type": "stream",
     "text": [
      "2\n",
      "3\n",
      "4\n"
     ]
    }
   ],
   "source": [
    "for i in range(2,5):\n",
    "    print(i)"
   ]
  },
  {
   "cell_type": "code",
   "execution_count": 25,
   "id": "e65ab66c",
   "metadata": {},
   "outputs": [
    {
     "name": "stdout",
     "output_type": "stream",
     "text": [
      "A S D \n",
      "['A', 'S', 'D', '']\n"
     ]
    }
   ],
   "source": [
    "s=input()\n",
    "str_c=s.split(' ')\n",
    "print(str_c)"
   ]
  },
  {
   "cell_type": "code",
   "execution_count": 27,
   "id": "deb4fc40",
   "metadata": {},
   "outputs": [
    {
     "name": "stdout",
     "output_type": "stream",
     "text": [
      "12\n",
      "13\n",
      "1213\n"
     ]
    }
   ],
   "source": [
    "def summ (a,b):\n",
    "    c=a+b\n",
    "    return c\n",
    "a=input()\n",
    "b=input()\n",
    "c=summ(a,b)\n",
    "print(c)"
   ]
  }
 ],
 "metadata": {
  "kernelspec": {
   "display_name": "Python 3 (ipykernel)",
   "language": "python",
   "name": "python3"
  },
  "language_info": {
   "codemirror_mode": {
    "name": "ipython",
    "version": 3
   },
   "file_extension": ".py",
   "mimetype": "text/x-python",
   "name": "python",
   "nbconvert_exporter": "python",
   "pygments_lexer": "ipython3",
   "version": "3.9.13"
  }
 },
 "nbformat": 4,
 "nbformat_minor": 5
}
