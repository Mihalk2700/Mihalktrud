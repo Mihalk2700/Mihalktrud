{
 "cells": [
  {
   "cell_type": "code",
   "execution_count": null,
   "id": "811be4fe",
   "metadata": {},
   "outputs": [],
   "source": [
    "a=2\n",
    "print(a)"
   ]
  },
  {
   "cell_type": "code",
   "execution_count": null,
   "id": "9488e6ba",
   "metadata": {},
   "outputs": [],
   "source": [
    "a=input('абоба')\n",
    "print(a)"
   ]
  },
  {
   "cell_type": "code",
   "execution_count": null,
   "id": "7a2c1e9b",
   "metadata": {},
   "outputs": [],
   "source": [
    "a=[]\n",
    "b=2\n",
    "a.append(b)\n",
    "print(a)"
   ]
  },
  {
   "cell_type": "code",
   "execution_count": null,
   "id": "720d15fd",
   "metadata": {},
   "outputs": [],
   "source": [
    "a=50\n",
    "d=bin(a)\n",
    "print(d)"
   ]
  },
  {
   "cell_type": "code",
   "execution_count": null,
   "id": "16306c7e",
   "metadata": {},
   "outputs": [],
   "source": [
    "d=bin(50)\n",
    "c=int(d[2:],2)\n",
    "print(c)"
   ]
  },
  {
   "cell_type": "code",
   "execution_count": null,
   "id": "9930ff1c",
   "metadata": {},
   "outputs": [],
   "source": [
    "for i in range(2,5):\n",
    "    print(i)"
   ]
  }
 ],
 "metadata": {
  "kernelspec": {
   "display_name": "Python 3 (ipykernel)",
   "language": "python",
   "name": "python3"
  },
  "language_info": {
   "codemirror_mode": {
    "name": "ipython",
    "version": 3
   },
   "file_extension": ".py",
   "mimetype": "text/x-python",
   "name": "python",
   "nbconvert_exporter": "python",
   "pygments_lexer": "ipython3",
   "version": "3.9.13"
  }
 },
 "nbformat": 4,
 "nbformat_minor": 5
}
